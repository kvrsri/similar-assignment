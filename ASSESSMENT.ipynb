{
 "metadata": {
  "language_info": {
   "codemirror_mode": {
    "name": "ipython",
    "version": 3
   },
   "file_extension": ".py",
   "mimetype": "text/x-python",
   "name": "python",
   "nbconvert_exporter": "python",
   "pygments_lexer": "ipython3",
   "version": "3.8.3"
  },
  "orig_nbformat": 2,
  "kernelspec": {
   "name": "python3",
   "display_name": "Python 3.8.3 64-bit ('base': conda)"
  },
  "interpreter": {
   "hash": "6d46af94c2bbce495f1e668725902fa517c90b1782bcfe2fce0dd9868df553d3"
  }
 },
 "nbformat": 4,
 "nbformat_minor": 2,
 "cells": [
  {
   "cell_type": "code",
   "execution_count": 4,
   "metadata": {
    "tags": []
   },
   "outputs": [
    {
     "output_type": "stream",
     "name": "stdout",
     "text": [
      "No matching strings found.\n"
     ]
    }
   ],
   "source": [
    "def search_string_file(file_name,input_string):    \n",
    "    line_number = 0\n",
    "    list_of_results = []\n",
    "    with open(file_name, 'r') as read_obj:\n",
    "        for line in read_obj:\n",
    "            line_number += 1\n",
    "            if input_string in line:\n",
    "                list_of_results.append((line_number, line.rstrip()))\n",
    "            if(len(list_of_results) == 20):\n",
    "                        break\n",
    "    return list_of_results\n",
    "\n",
    "def print_results(matched_lines):  \n",
    "    if not matched_lines:\n",
    "         print('No matching strings found.')\n",
    "    else:\n",
    "        for elem in matched_lines:           \n",
    "            print( ' Line Number = ', elem[0], ' :: Line = ', elem[1])       \n",
    "        \n",
    "    \n",
    "input_string = input(\"Enter a word to search:\")\n",
    "matched_lines = search_string_file('python_assesment.csv', input_string)\n",
    "print_results(matched_lines)\n"
   ]
  },
  {
   "cell_type": "code",
   "execution_count": null,
   "metadata": {},
   "outputs": [],
   "source": []
  }
 ]
}