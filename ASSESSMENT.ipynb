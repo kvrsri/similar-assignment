{
 "metadata": {
  "language_info": {
   "codemirror_mode": {
    "name": "ipython",
    "version": 3
   },
   "file_extension": ".py",
   "mimetype": "text/x-python",
   "name": "python",
   "nbconvert_exporter": "python",
   "pygments_lexer": "ipython3",
   "version": "3.8.3"
  },
  "orig_nbformat": 2,
  "kernelspec": {
   "name": "python3",
   "display_name": "Python 3.8.3 64-bit ('user': virtualenv)"
  },
  "interpreter": {
   "hash": "6d46af94c2bbce495f1e668725902fa517c90b1782bcfe2fce0dd9868df553d3"
  }
 },
 "nbformat": 4,
 "nbformat_minor": 2,
 "cells": [
  {
   "cell_type": "code",
   "execution_count": 3,
   "metadata": {
    "tags": []
   },
   "outputs": [
    {
     "output_type": "stream",
     "name": "stdout",
     "text": [
      " Line Number =  11895  :: Line =  11893,Manouri attica cheese\n Line Number =  15283  :: Line =  15281,Epiros Jalagani grill cheese\n Line Number =  16833  :: Line =  16831,Krinos Bulgarian white cheese\n Line Number =  17768  :: Line =  17766,Tek sut yagh tost cheese\n Line Number =  19055  :: Line =  19053,Sheep  goat halloumi cheese\n Line Number =  19541  :: Line =  19539,yorsan fresh cheese\n Line Number =  21355  :: Line =  21353,Tek sut  orgu peyniri cheese\n Line Number =  21369  :: Line =  21367,Bahcivan beyaz peynir cheese\n Line Number =  26151  :: Line =  26149,Tek sut cerkez peyniri cheese\n Line Number =  26414  :: Line =  26412,Sutas cream cheese\n Line Number =  29680  :: Line =  29678,Karun cheese\n Line Number =  31534  :: Line =  31532,Tek sut kasar peyniri cheese\n Line Number =  32261  :: Line =  32259,VG  original bulgarian white cheese\n Line Number =  32509  :: Line =  32507,Tek sut  mihalic peyniri cheese\n Line Number =  36833  :: Line =  36831,Karoun cheese\n Line Number =  38065  :: Line =  38063,Yorsan hellim peyniri cheese\n Line Number =  38305  :: Line =  38303,Tek sut labne cheese\n Line Number =  38643  :: Line =  38641,Bulgarian sheep cheese\n Line Number =  39308  :: Line =  39306,Hotos oraganic feta cheese\n Line Number =  39898  :: Line =  39896,String cheese caraway\nno matching strings found\n"
     ]
    }
   ],
   "source": [
    "def string_file(file_name,input_string):\n",
    "    \"\"\"Search for the given string in file and return lines containing that string,\n",
    "    along with line numbers\"\"\"\n",
    "    \n",
    "    line_number = 0\n",
    "    list_of_results = []\n",
    "    # Open the file in read only mode\n",
    "    with open(file_name, 'r') as read_obj:\n",
    "        # Read all lines in the file one by one\n",
    "        for line in read_obj:\n",
    "            # For each line, check if line contains the string\n",
    "            line_number += 1\n",
    "            if input_string in line:\n",
    "                \n",
    "                # If yes, then add the line number & line as a tuple in the list\n",
    "                list_of_results.append((line_number, line.rstrip()))\n",
    "    # Return list of tuples containing line numbers and lines where string is found\n",
    "    return list_of_results[0:20]\n",
    "    \n",
    "input_string = input(\"Enter word:\")\n",
    "matched_lines = string_file('python_assesment.csv', input_string)\n",
    "for elem in matched_lines:\n",
    "    #line number: is index based\n",
    "    #line: is which is showing in the CSV\n",
    "    print( ' Line Number = ', elem[0], ' :: Line = ', elem[1])       \n",
    "else:\n",
    "    print('no matching strings found')"
   ]
  },
  {
   "cell_type": "code",
   "execution_count": null,
   "metadata": {},
   "outputs": [],
   "source": []
  }
 ]
}