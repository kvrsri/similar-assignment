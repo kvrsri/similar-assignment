{
 "metadata": {
  "language_info": {
   "codemirror_mode": {
    "name": "ipython",
    "version": 3
   },
   "file_extension": ".py",
   "mimetype": "text/x-python",
   "name": "python",
   "nbconvert_exporter": "python",
   "pygments_lexer": "ipython3",
   "version": "3.8.3"
  },
  "orig_nbformat": 2,
  "kernelspec": {
   "name": "python3",
   "display_name": "Python 3.8.3 64-bit ('user': virtualenv)"
  },
  "interpreter": {
   "hash": "6d46af94c2bbce495f1e668725902fa517c90b1782bcfe2fce0dd9868df553d3"
  }
 },
 "nbformat": 4,
 "nbformat_minor": 2,
 "cells": [
  {
   "cell_type": "code",
   "execution_count": 4,
   "metadata": {
    "tags": []
   },
   "outputs": [
    {
     "output_type": "stream",
     "name": "stdout",
     "text": [
      "no matching strings found\n"
     ]
    }
   ],
   "source": [
    "def string_file(file_name,input_string):\n",
    "    \"\"\"Search for the given string in file and return lines containing that string,\n",
    "    along with line numbers\"\"\"\n",
    "    \n",
    "    line_number = 0\n",
    "    list_of_results = []\n",
    "    # Open the file in read only mode\n",
    "    with open(file_name, 'r') as read_obj:\n",
    "        # Read all lines in the file one by one\n",
    "        for line in read_obj:\n",
    "            # For each line, check if line contains the string\n",
    "            line_number += 1\n",
    "            if input_string in line:\n",
    "                \n",
    "                # If yes, then add the line number & line as a tuple in the list\n",
    "                list_of_results.append((line_number, line.rstrip()))\n",
    "    # Return list of tuples containing line numbers and lines where string is found\n",
    "    return list_of_results[0:20]\n",
    "    \n",
    "input_string = input(\"Enter word:\")\n",
    "matched_lines = string_file('python_assesment.csv', input_string)\n",
    "for elem in matched_lines:\n",
    "    #line number: is index based\n",
    "    #line: is which is showing in the CSV\n",
    "    print( ' Line Number = ', elem[0], ' :: Line = ', elem[1])       \n",
    "else:\n",
    "    print('no matching strings found')"
   ]
  },
  {
   "cell_type": "code",
   "execution_count": null,
   "metadata": {},
   "outputs": [],
   "source": []
  }
 ]
}